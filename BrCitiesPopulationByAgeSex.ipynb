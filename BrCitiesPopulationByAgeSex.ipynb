{
  "nbformat": 4,
  "nbformat_minor": 0,
  "metadata": {
    "colab": {
      "name": "BrCitiesPopulationByAgeSex.ipynb",
      "provenance": [],
      "toc_visible": true,
      "include_colab_link": true
    },
    "kernelspec": {
      "name": "python3",
      "display_name": "Python 3"
    }
  },
  "cells": [
    {
      "cell_type": "markdown",
      "metadata": {
        "id": "view-in-github",
        "colab_type": "text"
      },
      "source": [
        "<a href=\"https://colab.research.google.com/github/viniciusriosfuck/datasus2012/blob/main/BrCitiesPopulationByAgeSex.ipynb\" target=\"_parent\"><img src=\"https://colab.research.google.com/assets/colab-badge.svg\" alt=\"Open In Colab\"/></a>"
      ]
    },
    {
      "cell_type": "markdown",
      "metadata": {
        "id": "YWs89IFVV2JG"
      },
      "source": [
        "# Objetivo\n",
        "Este notebook extrai dados demográficos por cidades do Brasil da página do DataSUS e os consolida em tabelas a serem usadas em análises."
      ]
    },
    {
      "cell_type": "markdown",
      "metadata": {
        "id": "rCCMRJ58cdlN"
      },
      "source": [
        "# Fonte dos dados: DataSus2012\n",
        "Mais informações em:\n",
        "http://tabnet.datasus.gov.br/cgi/ibge/popdescr.htm#resumo\n",
        "\n"
      ]
    },
    {
      "cell_type": "markdown",
      "metadata": {
        "id": "N1BWwifR_DFL"
      },
      "source": [
        "## Baixar arquivo\n",
        "ftp://ftp.datasus.gov.br/dissemin/publicos/IBGE/POP/popbr12.zip\n",
        "\n",
        "Extrair POPBR12.csv"
      ]
    },
    {
      "cell_type": "markdown",
      "metadata": {
        "id": "oBScSGlJf5Dn"
      },
      "source": [
        "SITUACAO: situação de domicílio, 1 dígito, segundo a classificação:\n",
        "* 1: Urbano\n",
        "* 2: Rural\n",
        "* 3: Não levantado"
      ]
    },
    {
      "cell_type": "code",
      "metadata": {
        "id": "obBXls2TlL37"
      },
      "source": [
        "def dct_fx_etaria():\n",
        "    \"\"\"\n",
        "        Build dict for fx_etaria mapping\n",
        "    \"\"\"\n",
        "    dct1 = {str(x).zfill(2) + str(x).zfill(2):\n",
        "            str(x).zfill(2) + ' anos'\n",
        "            for x in range(20)}\n",
        "    dct1['0000'] = 'menor de 1 ano'\n",
        "    dct1['0101'] = '01 ano'\n",
        "\n",
        "    lst_lower = [lower for lower in range(0,76,5)]\n",
        "    lst_upper = [upper for upper in range(4,80,5)]\n",
        "    dct_rng = {str(lower).zfill(2) + str(upper).zfill(2):\n",
        "            str(lower).zfill(2) + ' a ' + str(upper).zfill(2) + ' anos'\n",
        "            for lower,upper in zip(lst_lower,lst_upper)}\n",
        "\n",
        "    dct = {**dct1, **dct_rng}\n",
        "    dct['8099'] = '80 anos e mais'\n",
        "    #dct['I000'] = 'idade ignorada'\n",
        "    dct = {int(k):v for k,v in dct.items()}\n",
        "\n",
        "    d_map = {int(k):v for k,v in dct1.items()}\n",
        "\n",
        "    for k in d_map.keys():\n",
        "        if k < 500:\n",
        "            d_map[k] = dct_rng['0004']\n",
        "        elif k < 1000:\n",
        "            d_map[k] = dct_rng['0509']\n",
        "        elif k < 1500:\n",
        "            d_map[k] = dct_rng['1014']\n",
        "        elif k < 2000:\n",
        "            d_map[k] = dct_rng['1519']\n",
        "        else:\n",
        "            raise 'Error'\n",
        "\n",
        "    d_fx_etaria = {**dct, **d_map}\n",
        "\n",
        "    return d_fx_etaria"
      ],
      "execution_count": 1,
      "outputs": []
    },
    {
      "cell_type": "code",
      "metadata": {
        "id": "0ij8luru4EdB"
      },
      "source": [
        "def replace_value_dct(df,col,dct):\n",
        "    df[col] = df[col].map(dct)\n",
        "    pass"
      ],
      "execution_count": 2,
      "outputs": []
    },
    {
      "cell_type": "code",
      "metadata": {
        "id": "yi74cdWfzLg9"
      },
      "source": [
        "def group_sum(df, col_val, col_group):\n",
        "    df[col_val] = (\n",
        "        df.groupby(col_group)\n",
        "            [col_val].transform('sum')\n",
        "    )\n",
        "    df.drop_duplicates(inplace=True)\n",
        "    df.drop(columns='MUNIC_RES', inplace=True)\n",
        "    pass"
      ],
      "execution_count": 3,
      "outputs": []
    },
    {
      "cell_type": "code",
      "metadata": {
        "id": "KMD5RmuRiyfQ"
      },
      "source": [
        "def cod_mun_filter(df, cod_mun):\n",
        "    return df.loc[df['MUNIC_RES'] == cod_mun]"
      ],
      "execution_count": 4,
      "outputs": []
    },
    {
      "cell_type": "code",
      "metadata": {
        "id": "zVjwyTbnvtrf"
      },
      "source": [
        "def get_age_sex(df_cod_mun):\n",
        "    return df_cod_mun.pivot(index=[\"FXETARIA\"],\n",
        "                            columns=[\"SEXO\"],\n",
        "                            values=\"POPULACAO\")"
      ],
      "execution_count": 5,
      "outputs": []
    },
    {
      "cell_type": "code",
      "metadata": {
        "id": "NABW3G5v36QL"
      },
      "source": [
        "def group_by_young_elderly(df_age_sex):\n",
        "    d_old = {\n",
        "    'young':[\n",
        "        '00 a 04 anos',\n",
        "        '05 a 09 anos',\n",
        "        '10 a 14 anos',\n",
        "        '15 a 19 anos',\n",
        "        '20 a 24 anos',\n",
        "        '25 a 29 anos',\n",
        "        '30 a 34 anos',\n",
        "        '35 a 39 anos',\n",
        "        '40 a 44 anos',\n",
        "        '45 a 49 anos',\n",
        "        '50 a 54 anos',\n",
        "        '55 a 59 anos'\n",
        "    ],\n",
        "    'elderly': [\n",
        "        '60 a 64 anos',\n",
        "        '65 a 69 anos',\n",
        "        '70 a 74 anos',\n",
        "        '75 a 79 anos',\n",
        "        '80 anos e mais'\n",
        "    ]\n",
        "    }\n",
        "    d_young_elderly = {k: oldk for oldk, oldv in d_old.items() for k in oldv}\n",
        "    \n",
        "    df_young_elderly = df_age_sex.copy()\n",
        "    df_young_elderly.reset_index(inplace=True)\n",
        "\n",
        "    replace_value_dct(df_young_elderly, col=\"FXETARIA\", dct=d_young_elderly)\n",
        "    \n",
        "    df_young_elderly = (\n",
        "        df_young_elderly.groupby('FXETARIA').sum()\n",
        "        .sort_index(ascending=False)\n",
        "    )\n",
        "\n",
        "    return df_young_elderly \n"
      ],
      "execution_count": 6,
      "outputs": []
    },
    {
      "cell_type": "code",
      "metadata": {
        "id": "nzGFwAXc9dlR"
      },
      "source": [
        "def import_POPBR12():\n",
        "    url = \"https://github.com/viniciusriosfuck/datasus2012/blob/main/POPBR12.csv?raw=true\"\n",
        "    df = pd.read_csv(url)\n",
        "    df.drop(columns=['SITUACAO','ANO'], inplace=True)\n",
        "    return df"
      ],
      "execution_count": 7,
      "outputs": []
    },
    {
      "cell_type": "code",
      "metadata": {
        "id": "RqQx61wz9-Nw"
      },
      "source": [
        "def replace_fx_etaria(df):\n",
        "    d_fx_etaria = dct_fx_etaria()\n",
        "    replace_value_dct(df, col=\"FXETARIA\", dct=d_fx_etaria)\n",
        "    pass"
      ],
      "execution_count": 8,
      "outputs": []
    },
    {
      "cell_type": "code",
      "metadata": {
        "id": "rW57df4E-O3J"
      },
      "source": [
        "def replace_sex(df):\n",
        "    d_sex = {1:'Masculino', 2:'Feminino'}\n",
        "    replace_value_dct(df, col=\"SEXO\", dct=d_sex)\n",
        "    pass"
      ],
      "execution_count": 9,
      "outputs": []
    },
    {
      "cell_type": "markdown",
      "metadata": {
        "id": "77rZUnBBwR93"
      },
      "source": [
        "# Código dos Municípios: IBGE\n",
        "\n",
        "## Fonte dos dados: IBGE\n",
        "Mais informações em:\n",
        "https://www.ibge.gov.br/explica/codigos-dos-municipios.php\n",
        "\n",
        "## Baixar arquivo\n",
        "ftp://geoftp.ibge.gov.br/organizacao_do_territorio/estrutura_territorial/divisao_territorial/2018/DTB_2018.zip\n",
        "\n",
        "Extrair RELATORIO_DTB_BRASIL_MUNICIPIO.xls"
      ]
    },
    {
      "cell_type": "markdown",
      "metadata": {
        "id": "aGJ5HizMw5M0"
      },
      "source": [
        "Código antigo do IBGE: 6 dígitos\n",
        "ftp://geoftp.ibge.gov.br/organizacao_do_territorio/redes_e_fluxos_geograficos/ligacoes_aereas/bases_de_dados/xls/cidades.xls"
      ]
    },
    {
      "cell_type": "code",
      "metadata": {
        "id": "_sQB_FAY8Bif"
      },
      "source": [
        "def import_cidades():\n",
        "    url = \"https://github.com/viniciusriosfuck/datasus2012/blob/main/cidades.xls?raw=true\"\n",
        "    df_mun = pd.read_excel(url)\n",
        "    lst_col = [\"UF\", \"CodUF\", \"Codmundv\", \"Codmun\", \"nomemun\"]\n",
        "    df_mun = df_mun[lst_col]\n",
        "    return df_mun"
      ],
      "execution_count": 10,
      "outputs": []
    },
    {
      "cell_type": "code",
      "metadata": {
        "id": "6GrFEgAx5rv5"
      },
      "source": [
        "def get_mun_name(df,cod_col,name_col,cod_mun):\n",
        "    mask = df[cod_col] == cod_mun\n",
        "    mun_name = df.loc[mask,name_col].item()\n",
        "    print(mun_name)\n",
        "    return mun_name"
      ],
      "execution_count": 11,
      "outputs": []
    },
    {
      "cell_type": "code",
      "metadata": {
        "id": "Psni2avZ6fEA"
      },
      "source": [
        "def export_excel(df,mun_name):\n",
        "    filename = mun_name + '.xlsx'\n",
        "    df.to_excel(filename, encoding='utf-8')#, index=False)\n",
        "    pass"
      ],
      "execution_count": 12,
      "outputs": []
    },
    {
      "cell_type": "code",
      "metadata": {
        "id": "3DMwcgOq67z2"
      },
      "source": [
        "def remove_digito_verificador_cod_mun(df):\n",
        "    df[\"CodigoMunicipioSemDigitoVerificador\"] = (\n",
        "    df[\"Código Município Completo\"]\n",
        "    .astype(str)\n",
        "    .str\n",
        "    .slice(stop=-1)\n",
        "    .astype(int)\n",
        "    )\n",
        "    pass"
      ],
      "execution_count": 13,
      "outputs": []
    },
    {
      "cell_type": "markdown",
      "metadata": {
        "id": "KmL9OBGBJ7ou"
      },
      "source": [
        "# Exemplo"
      ]
    },
    {
      "cell_type": "markdown",
      "metadata": {
        "id": "Vf6vmz-cKvBy"
      },
      "source": [
        "## TODO\n",
        "- [ ] change order from replace, group, filter to filter, group, replace\n",
        "-- [x] order changed to filter, replace, group\n",
        "- [ ] check warnings"
      ]
    },
    {
      "cell_type": "code",
      "metadata": {
        "id": "M41bV3RDgLWD",
        "outputId": "b01e8d8c-5976-49cc-e8f7-2a38e7211a6b",
        "colab": {
          "base_uri": "https://localhost:8080/",
          "height": 603
        }
      },
      "source": [
        "import pandas as pd\n",
        "\n",
        "df = import_POPBR12()\n",
        "cod_mun = 420540 # 110001 # \n",
        "\n",
        "df_cod_mun = cod_mun_filter(df, cod_mun)\n",
        "replace_fx_etaria(df_cod_mun)\n",
        "replace_sex(df_cod_mun)\n",
        "group_sum(df_cod_mun,\n",
        "          col_val='POPULACAO',\n",
        "          col_group=['MUNIC_RES','SEXO','FXETARIA'])\n",
        "df_cod_mun.head()"
      ],
      "execution_count": 14,
      "outputs": [
        {
          "output_type": "stream",
          "text": [
            "/usr/local/lib/python3.6/dist-packages/ipykernel_launcher.py:2: SettingWithCopyWarning: \n",
            "A value is trying to be set on a copy of a slice from a DataFrame.\n",
            "Try using .loc[row_indexer,col_indexer] = value instead\n",
            "\n",
            "See the caveats in the documentation: https://pandas.pydata.org/pandas-docs/stable/user_guide/indexing.html#returning-a-view-versus-a-copy\n",
            "  \n",
            "/usr/local/lib/python3.6/dist-packages/ipykernel_launcher.py:4: SettingWithCopyWarning: \n",
            "A value is trying to be set on a copy of a slice from a DataFrame.\n",
            "Try using .loc[row_indexer,col_indexer] = value instead\n",
            "\n",
            "See the caveats in the documentation: https://pandas.pydata.org/pandas-docs/stable/user_guide/indexing.html#returning-a-view-versus-a-copy\n",
            "  after removing the cwd from sys.path.\n",
            "/usr/local/lib/python3.6/dist-packages/ipykernel_launcher.py:6: SettingWithCopyWarning: \n",
            "A value is trying to be set on a copy of a slice from a DataFrame\n",
            "\n",
            "See the caveats in the documentation: https://pandas.pydata.org/pandas-docs/stable/user_guide/indexing.html#returning-a-view-versus-a-copy\n",
            "  \n",
            "/usr/local/lib/python3.6/dist-packages/pandas/core/frame.py:4169: SettingWithCopyWarning: \n",
            "A value is trying to be set on a copy of a slice from a DataFrame\n",
            "\n",
            "See the caveats in the documentation: https://pandas.pydata.org/pandas-docs/stable/user_guide/indexing.html#returning-a-view-versus-a-copy\n",
            "  errors=errors,\n"
          ],
          "name": "stderr"
        },
        {
          "output_type": "execute_result",
          "data": {
            "text/html": [
              "<div>\n",
              "<style scoped>\n",
              "    .dataframe tbody tr th:only-of-type {\n",
              "        vertical-align: middle;\n",
              "    }\n",
              "\n",
              "    .dataframe tbody tr th {\n",
              "        vertical-align: top;\n",
              "    }\n",
              "\n",
              "    .dataframe thead th {\n",
              "        text-align: right;\n",
              "    }\n",
              "</style>\n",
              "<table border=\"1\" class=\"dataframe\">\n",
              "  <thead>\n",
              "    <tr style=\"text-align: right;\">\n",
              "      <th></th>\n",
              "      <th>SEXO</th>\n",
              "      <th>FXETARIA</th>\n",
              "      <th>POPULACAO</th>\n",
              "    </tr>\n",
              "  </thead>\n",
              "  <tbody>\n",
              "    <tr>\n",
              "      <th>290202</th>\n",
              "      <td>Masculino</td>\n",
              "      <td>00 a 04 anos</td>\n",
              "      <td>11999</td>\n",
              "    </tr>\n",
              "    <tr>\n",
              "      <th>290207</th>\n",
              "      <td>Masculino</td>\n",
              "      <td>05 a 09 anos</td>\n",
              "      <td>12375</td>\n",
              "    </tr>\n",
              "    <tr>\n",
              "      <th>290212</th>\n",
              "      <td>Masculino</td>\n",
              "      <td>10 a 14 anos</td>\n",
              "      <td>14895</td>\n",
              "    </tr>\n",
              "    <tr>\n",
              "      <th>290217</th>\n",
              "      <td>Masculino</td>\n",
              "      <td>15 a 19 anos</td>\n",
              "      <td>16687</td>\n",
              "    </tr>\n",
              "    <tr>\n",
              "      <th>290222</th>\n",
              "      <td>Masculino</td>\n",
              "      <td>20 a 24 anos</td>\n",
              "      <td>21439</td>\n",
              "    </tr>\n",
              "  </tbody>\n",
              "</table>\n",
              "</div>"
            ],
            "text/plain": [
              "             SEXO      FXETARIA  POPULACAO\n",
              "290202  Masculino  00 a 04 anos      11999\n",
              "290207  Masculino  05 a 09 anos      12375\n",
              "290212  Masculino  10 a 14 anos      14895\n",
              "290217  Masculino  15 a 19 anos      16687\n",
              "290222  Masculino  20 a 24 anos      21439"
            ]
          },
          "metadata": {
            "tags": []
          },
          "execution_count": 14
        }
      ]
    },
    {
      "cell_type": "code",
      "metadata": {
        "id": "O4Q82MFQFCiH",
        "outputId": "147adcb9-2e9e-4948-e122-3adac9bd51cc",
        "colab": {
          "base_uri": "https://localhost:8080/",
          "height": 601
        }
      },
      "source": [
        "df_age_sex = get_age_sex(df_cod_mun)\n",
        "df_age_sex"
      ],
      "execution_count": 15,
      "outputs": [
        {
          "output_type": "execute_result",
          "data": {
            "text/html": [
              "<div>\n",
              "<style scoped>\n",
              "    .dataframe tbody tr th:only-of-type {\n",
              "        vertical-align: middle;\n",
              "    }\n",
              "\n",
              "    .dataframe tbody tr th {\n",
              "        vertical-align: top;\n",
              "    }\n",
              "\n",
              "    .dataframe thead th {\n",
              "        text-align: right;\n",
              "    }\n",
              "</style>\n",
              "<table border=\"1\" class=\"dataframe\">\n",
              "  <thead>\n",
              "    <tr style=\"text-align: right;\">\n",
              "      <th>SEXO</th>\n",
              "      <th>Feminino</th>\n",
              "      <th>Masculino</th>\n",
              "    </tr>\n",
              "    <tr>\n",
              "      <th>FXETARIA</th>\n",
              "      <th></th>\n",
              "      <th></th>\n",
              "    </tr>\n",
              "  </thead>\n",
              "  <tbody>\n",
              "    <tr>\n",
              "      <th>00 a 04 anos</th>\n",
              "      <td>11485</td>\n",
              "      <td>11999</td>\n",
              "    </tr>\n",
              "    <tr>\n",
              "      <th>05 a 09 anos</th>\n",
              "      <td>12277</td>\n",
              "      <td>12375</td>\n",
              "    </tr>\n",
              "    <tr>\n",
              "      <th>10 a 14 anos</th>\n",
              "      <td>14507</td>\n",
              "      <td>14895</td>\n",
              "    </tr>\n",
              "    <tr>\n",
              "      <th>15 a 19 anos</th>\n",
              "      <td>16809</td>\n",
              "      <td>16687</td>\n",
              "    </tr>\n",
              "    <tr>\n",
              "      <th>20 a 24 anos</th>\n",
              "      <td>20943</td>\n",
              "      <td>21439</td>\n",
              "    </tr>\n",
              "    <tr>\n",
              "      <th>25 a 29 anos</th>\n",
              "      <td>22488</td>\n",
              "      <td>22609</td>\n",
              "    </tr>\n",
              "    <tr>\n",
              "      <th>30 a 34 anos</th>\n",
              "      <td>19841</td>\n",
              "      <td>19414</td>\n",
              "    </tr>\n",
              "    <tr>\n",
              "      <th>35 a 39 anos</th>\n",
              "      <td>17105</td>\n",
              "      <td>16383</td>\n",
              "    </tr>\n",
              "    <tr>\n",
              "      <th>40 a 44 anos</th>\n",
              "      <td>16273</td>\n",
              "      <td>14653</td>\n",
              "    </tr>\n",
              "    <tr>\n",
              "      <th>45 a 49 anos</th>\n",
              "      <td>16872</td>\n",
              "      <td>14452</td>\n",
              "    </tr>\n",
              "    <tr>\n",
              "      <th>50 a 54 anos</th>\n",
              "      <td>14726</td>\n",
              "      <td>12549</td>\n",
              "    </tr>\n",
              "    <tr>\n",
              "      <th>55 a 59 anos</th>\n",
              "      <td>12359</td>\n",
              "      <td>10225</td>\n",
              "    </tr>\n",
              "    <tr>\n",
              "      <th>60 a 64 anos</th>\n",
              "      <td>9274</td>\n",
              "      <td>7855</td>\n",
              "    </tr>\n",
              "    <tr>\n",
              "      <th>65 a 69 anos</th>\n",
              "      <td>6298</td>\n",
              "      <td>5069</td>\n",
              "    </tr>\n",
              "    <tr>\n",
              "      <th>70 a 74 anos</th>\n",
              "      <td>4758</td>\n",
              "      <td>3674</td>\n",
              "    </tr>\n",
              "    <tr>\n",
              "      <th>75 a 79 anos</th>\n",
              "      <td>3591</td>\n",
              "      <td>2298</td>\n",
              "    </tr>\n",
              "    <tr>\n",
              "      <th>80 anos e mais</th>\n",
              "      <td>4763</td>\n",
              "      <td>2213</td>\n",
              "    </tr>\n",
              "  </tbody>\n",
              "</table>\n",
              "</div>"
            ],
            "text/plain": [
              "SEXO            Feminino  Masculino\n",
              "FXETARIA                           \n",
              "00 a 04 anos       11485      11999\n",
              "05 a 09 anos       12277      12375\n",
              "10 a 14 anos       14507      14895\n",
              "15 a 19 anos       16809      16687\n",
              "20 a 24 anos       20943      21439\n",
              "25 a 29 anos       22488      22609\n",
              "30 a 34 anos       19841      19414\n",
              "35 a 39 anos       17105      16383\n",
              "40 a 44 anos       16273      14653\n",
              "45 a 49 anos       16872      14452\n",
              "50 a 54 anos       14726      12549\n",
              "55 a 59 anos       12359      10225\n",
              "60 a 64 anos        9274       7855\n",
              "65 a 69 anos        6298       5069\n",
              "70 a 74 anos        4758       3674\n",
              "75 a 79 anos        3591       2298\n",
              "80 anos e mais      4763       2213"
            ]
          },
          "metadata": {
            "tags": []
          },
          "execution_count": 15
        }
      ]
    },
    {
      "cell_type": "code",
      "metadata": {
        "id": "fwurrOzC0q83",
        "outputId": "e9cc03c6-1ea3-4e38-e96c-b71120a7f07d",
        "colab": {
          "base_uri": "https://localhost:8080/",
          "height": 141
        }
      },
      "source": [
        "df_young_elderly = group_by_young_elderly(df_age_sex)\n",
        "df_young_elderly"
      ],
      "execution_count": 16,
      "outputs": [
        {
          "output_type": "execute_result",
          "data": {
            "text/html": [
              "<div>\n",
              "<style scoped>\n",
              "    .dataframe tbody tr th:only-of-type {\n",
              "        vertical-align: middle;\n",
              "    }\n",
              "\n",
              "    .dataframe tbody tr th {\n",
              "        vertical-align: top;\n",
              "    }\n",
              "\n",
              "    .dataframe thead th {\n",
              "        text-align: right;\n",
              "    }\n",
              "</style>\n",
              "<table border=\"1\" class=\"dataframe\">\n",
              "  <thead>\n",
              "    <tr style=\"text-align: right;\">\n",
              "      <th>SEXO</th>\n",
              "      <th>Feminino</th>\n",
              "      <th>Masculino</th>\n",
              "    </tr>\n",
              "    <tr>\n",
              "      <th>FXETARIA</th>\n",
              "      <th></th>\n",
              "      <th></th>\n",
              "    </tr>\n",
              "  </thead>\n",
              "  <tbody>\n",
              "    <tr>\n",
              "      <th>young</th>\n",
              "      <td>195685</td>\n",
              "      <td>187680</td>\n",
              "    </tr>\n",
              "    <tr>\n",
              "      <th>elderly</th>\n",
              "      <td>28684</td>\n",
              "      <td>21109</td>\n",
              "    </tr>\n",
              "  </tbody>\n",
              "</table>\n",
              "</div>"
            ],
            "text/plain": [
              "SEXO      Feminino  Masculino\n",
              "FXETARIA                     \n",
              "young       195685     187680\n",
              "elderly      28684      21109"
            ]
          },
          "metadata": {
            "tags": []
          },
          "execution_count": 16
        }
      ]
    },
    {
      "cell_type": "code",
      "metadata": {
        "id": "DLKcwS6FLmdG",
        "outputId": "fc5bd6e5-9dba-47d0-f845-01981b3d3db3",
        "colab": {
          "base_uri": "https://localhost:8080/",
          "height": 35
        }
      },
      "source": [
        "df_young_elderly.loc['elderly'].sum() / (\n",
        "    df_young_elderly.loc['young'].sum() + df_young_elderly.loc['elderly'].sum()   \n",
        ")"
      ],
      "execution_count": 17,
      "outputs": [
        {
          "output_type": "execute_result",
          "data": {
            "text/plain": [
              "0.11495343500524058"
            ]
          },
          "metadata": {
            "tags": []
          },
          "execution_count": 17
        }
      ]
    },
    {
      "cell_type": "code",
      "metadata": {
        "id": "gITnlBi88c1t",
        "outputId": "f35e5ebc-d7f5-4e82-8395-fddde37ea80c",
        "colab": {
          "base_uri": "https://localhost:8080/",
          "height": 35
        }
      },
      "source": [
        "df_mun = import_cidades()\n",
        "mun_name = get_mun_name(df=df_mun,\n",
        "                        cod_col=\"Codmun\",\n",
        "                        name_col=\"nomemun\",\n",
        "                        cod_mun=cod_mun)\n",
        "export_excel(df=df_age_sex, mun_name=mun_name)"
      ],
      "execution_count": 18,
      "outputs": [
        {
          "output_type": "stream",
          "text": [
            "Florianópolis\n"
          ],
          "name": "stdout"
        }
      ]
    },
    {
      "cell_type": "markdown",
      "metadata": {
        "id": "y6nv_ygy2QPB"
      },
      "source": [
        "# TODO\n",
        "\n",
        "Ver outras possíveis fontes de dados para população:\n",
        "* https://censo2010.ibge.gov.br/sinopse/index.php?dados=26&uf=35\n",
        "* http://cidades.ibge.gov.br/xtras/perfil.php?codmun=350040"
      ]
    },
    {
      "cell_type": "markdown",
      "metadata": {
        "id": "ewSk3Q-IK8O0"
      },
      "source": [
        "Se input com dígito verificador"
      ]
    },
    {
      "cell_type": "code",
      "metadata": {
        "id": "n7lMbAcPKkyD",
        "outputId": "81f4f98d-0240-4fee-ea51-418433b9ea7f",
        "colab": {
          "base_uri": "https://localhost:8080/",
          "height": 35
        }
      },
      "source": [
        "url = \"https://github.com/viniciusriosfuck/datasus2012/blob/main/RELATORIO_DTB_BRASIL_MUNICIPIO.xls?raw=true\"\n",
        "df_mun_2 = pd.read_excel(url)\n",
        "\n",
        "remove_digito_verificador_cod_mun(df_mun_2)\n",
        "mun_name = get_mun_name(df=df_mun_2,\n",
        "                        cod_col=\"CodigoMunicipioSemDigitoVerificador\",\n",
        "                        name_col=\"Nome_Município\",\n",
        "                        cod_mun=cod_mun)"
      ],
      "execution_count": 19,
      "outputs": [
        {
          "output_type": "stream",
          "text": [
            "Florianópolis\n"
          ],
          "name": "stdout"
        }
      ]
    }
  ]
}